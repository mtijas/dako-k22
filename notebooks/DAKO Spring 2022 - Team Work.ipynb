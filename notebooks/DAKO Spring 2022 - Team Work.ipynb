{
 "cells": [
  {
   "cell_type": "markdown",
   "id": "e8e23369-b658-4a40-9895-0b465bb3d4e5",
   "metadata": {},
   "source": [
    "# Description\n",
    "\n",
    "The aim of this group work is to use machine learning to create a model predicting which passengers survived the Titanic shipwreck. The data used is from [Kaggle Titanic ML Competition](https://www.kaggle.com/competitions/titanic), and Kaggle is used to evaluate our models as well. There is also additional tasks which are completed during this group work."
   ]
  },
  {
   "cell_type": "markdown",
   "id": "2fb79dfd-48fa-47a2-931e-70a2c3555233",
   "metadata": {},
   "source": [
    "# Imports and definitions"
   ]
  },
  {
   "cell_type": "code",
   "execution_count": 89,
   "id": "6c84ebb1-4a1e-43fc-a240-3f8daf05ac64",
   "metadata": {},
   "outputs": [],
   "source": [
    "import os\n",
    "import numpy as np\n",
    "import pandas as pd\n",
    "import seaborn as sns\n",
    "from sklearn.impute import SimpleImputer\n",
    "from sklearn.preprocessing import OneHotEncoder\n",
    "from sklearn.compose import ColumnTransformer\n",
    "from sklearn.pipeline import Pipeline\n",
    "from sklearn.preprocessing import StandardScaler\n",
    "from sklearn.neural_network import MLPClassifier\n",
    "from sklearn.model_selection import train_test_split\n",
    "from sklearn.metrics import confusion_matrix\n",
    "from sklearn.metrics import accuracy_score\n",
    "from sklearn.ensemble import RandomForestClassifier\n",
    "from sklearn.metrics import precision_score\n",
    "from sklearn.metrics import recall_score\n",
    "from sklearn.model_selection import cross_val_score\n",
    "import matplotlib.pyplot as plt"
   ]
  },
  {
   "cell_type": "code",
   "execution_count": 90,
   "id": "3adfadba-461a-477f-8df3-4115fab36e47",
   "metadata": {},
   "outputs": [],
   "source": [
    "DATA_PATH = os.path.join(\"data\")"
   ]
  },
  {
   "cell_type": "code",
   "execution_count": 91,
   "id": "e1d6df64-2d8d-4ce6-a6cd-229d30ffc4f1",
   "metadata": {},
   "outputs": [],
   "source": [
    "def load_csv_data(data_directory, csv_filename):\n",
    "    '''Read csv data from data_directory/csv_filename'''\n",
    "    csv_path = os.path.join(data_directory, csv_filename)\n",
    "    return pd.read_csv(csv_path)"
   ]
  },
  {
   "cell_type": "markdown",
   "id": "311cd284-6bda-442e-9dda-b0546fa45c45",
   "metadata": {},
   "source": [
    "# Loading data and taking a look"
   ]
  },
  {
   "cell_type": "code",
   "execution_count": 92,
   "id": "4ee8e665-1ef3-4a4e-8b3a-0bf96ccc92d4",
   "metadata": {},
   "outputs": [],
   "source": [
    "train = load_csv_data(DATA_PATH, \"train.csv\")\n",
    "test = load_csv_data(DATA_PATH, \"test.csv\")"
   ]
  },
  {
   "cell_type": "code",
   "execution_count": 93,
   "id": "7c2bf5f9-5e50-4b63-b896-0d81c6fa7085",
   "metadata": {},
   "outputs": [
    {
     "data": {
      "text/html": [
       "<div>\n",
       "<style scoped>\n",
       "    .dataframe tbody tr th:only-of-type {\n",
       "        vertical-align: middle;\n",
       "    }\n",
       "\n",
       "    .dataframe tbody tr th {\n",
       "        vertical-align: top;\n",
       "    }\n",
       "\n",
       "    .dataframe thead th {\n",
       "        text-align: right;\n",
       "    }\n",
       "</style>\n",
       "<table border=\"1\" class=\"dataframe\">\n",
       "  <thead>\n",
       "    <tr style=\"text-align: right;\">\n",
       "      <th></th>\n",
       "      <th>PassengerId</th>\n",
       "      <th>Survived</th>\n",
       "      <th>Pclass</th>\n",
       "      <th>Name</th>\n",
       "      <th>Sex</th>\n",
       "      <th>Age</th>\n",
       "      <th>SibSp</th>\n",
       "      <th>Parch</th>\n",
       "      <th>Ticket</th>\n",
       "      <th>Fare</th>\n",
       "      <th>Cabin</th>\n",
       "      <th>Embarked</th>\n",
       "    </tr>\n",
       "  </thead>\n",
       "  <tbody>\n",
       "    <tr>\n",
       "      <th>0</th>\n",
       "      <td>1</td>\n",
       "      <td>0</td>\n",
       "      <td>3</td>\n",
       "      <td>Braund, Mr. Owen Harris</td>\n",
       "      <td>male</td>\n",
       "      <td>22.0</td>\n",
       "      <td>1</td>\n",
       "      <td>0</td>\n",
       "      <td>A/5 21171</td>\n",
       "      <td>7.2500</td>\n",
       "      <td>NaN</td>\n",
       "      <td>S</td>\n",
       "    </tr>\n",
       "    <tr>\n",
       "      <th>1</th>\n",
       "      <td>2</td>\n",
       "      <td>1</td>\n",
       "      <td>1</td>\n",
       "      <td>Cumings, Mrs. John Bradley (Florence Briggs Th...</td>\n",
       "      <td>female</td>\n",
       "      <td>38.0</td>\n",
       "      <td>1</td>\n",
       "      <td>0</td>\n",
       "      <td>PC 17599</td>\n",
       "      <td>71.2833</td>\n",
       "      <td>C85</td>\n",
       "      <td>C</td>\n",
       "    </tr>\n",
       "    <tr>\n",
       "      <th>2</th>\n",
       "      <td>3</td>\n",
       "      <td>1</td>\n",
       "      <td>3</td>\n",
       "      <td>Heikkinen, Miss. Laina</td>\n",
       "      <td>female</td>\n",
       "      <td>26.0</td>\n",
       "      <td>0</td>\n",
       "      <td>0</td>\n",
       "      <td>STON/O2. 3101282</td>\n",
       "      <td>7.9250</td>\n",
       "      <td>NaN</td>\n",
       "      <td>S</td>\n",
       "    </tr>\n",
       "    <tr>\n",
       "      <th>3</th>\n",
       "      <td>4</td>\n",
       "      <td>1</td>\n",
       "      <td>1</td>\n",
       "      <td>Futrelle, Mrs. Jacques Heath (Lily May Peel)</td>\n",
       "      <td>female</td>\n",
       "      <td>35.0</td>\n",
       "      <td>1</td>\n",
       "      <td>0</td>\n",
       "      <td>113803</td>\n",
       "      <td>53.1000</td>\n",
       "      <td>C123</td>\n",
       "      <td>S</td>\n",
       "    </tr>\n",
       "    <tr>\n",
       "      <th>4</th>\n",
       "      <td>5</td>\n",
       "      <td>0</td>\n",
       "      <td>3</td>\n",
       "      <td>Allen, Mr. William Henry</td>\n",
       "      <td>male</td>\n",
       "      <td>35.0</td>\n",
       "      <td>0</td>\n",
       "      <td>0</td>\n",
       "      <td>373450</td>\n",
       "      <td>8.0500</td>\n",
       "      <td>NaN</td>\n",
       "      <td>S</td>\n",
       "    </tr>\n",
       "    <tr>\n",
       "      <th>...</th>\n",
       "      <td>...</td>\n",
       "      <td>...</td>\n",
       "      <td>...</td>\n",
       "      <td>...</td>\n",
       "      <td>...</td>\n",
       "      <td>...</td>\n",
       "      <td>...</td>\n",
       "      <td>...</td>\n",
       "      <td>...</td>\n",
       "      <td>...</td>\n",
       "      <td>...</td>\n",
       "      <td>...</td>\n",
       "    </tr>\n",
       "    <tr>\n",
       "      <th>886</th>\n",
       "      <td>887</td>\n",
       "      <td>0</td>\n",
       "      <td>2</td>\n",
       "      <td>Montvila, Rev. Juozas</td>\n",
       "      <td>male</td>\n",
       "      <td>27.0</td>\n",
       "      <td>0</td>\n",
       "      <td>0</td>\n",
       "      <td>211536</td>\n",
       "      <td>13.0000</td>\n",
       "      <td>NaN</td>\n",
       "      <td>S</td>\n",
       "    </tr>\n",
       "    <tr>\n",
       "      <th>887</th>\n",
       "      <td>888</td>\n",
       "      <td>1</td>\n",
       "      <td>1</td>\n",
       "      <td>Graham, Miss. Margaret Edith</td>\n",
       "      <td>female</td>\n",
       "      <td>19.0</td>\n",
       "      <td>0</td>\n",
       "      <td>0</td>\n",
       "      <td>112053</td>\n",
       "      <td>30.0000</td>\n",
       "      <td>B42</td>\n",
       "      <td>S</td>\n",
       "    </tr>\n",
       "    <tr>\n",
       "      <th>888</th>\n",
       "      <td>889</td>\n",
       "      <td>0</td>\n",
       "      <td>3</td>\n",
       "      <td>Johnston, Miss. Catherine Helen \"Carrie\"</td>\n",
       "      <td>female</td>\n",
       "      <td>NaN</td>\n",
       "      <td>1</td>\n",
       "      <td>2</td>\n",
       "      <td>W./C. 6607</td>\n",
       "      <td>23.4500</td>\n",
       "      <td>NaN</td>\n",
       "      <td>S</td>\n",
       "    </tr>\n",
       "    <tr>\n",
       "      <th>889</th>\n",
       "      <td>890</td>\n",
       "      <td>1</td>\n",
       "      <td>1</td>\n",
       "      <td>Behr, Mr. Karl Howell</td>\n",
       "      <td>male</td>\n",
       "      <td>26.0</td>\n",
       "      <td>0</td>\n",
       "      <td>0</td>\n",
       "      <td>111369</td>\n",
       "      <td>30.0000</td>\n",
       "      <td>C148</td>\n",
       "      <td>C</td>\n",
       "    </tr>\n",
       "    <tr>\n",
       "      <th>890</th>\n",
       "      <td>891</td>\n",
       "      <td>0</td>\n",
       "      <td>3</td>\n",
       "      <td>Dooley, Mr. Patrick</td>\n",
       "      <td>male</td>\n",
       "      <td>32.0</td>\n",
       "      <td>0</td>\n",
       "      <td>0</td>\n",
       "      <td>370376</td>\n",
       "      <td>7.7500</td>\n",
       "      <td>NaN</td>\n",
       "      <td>Q</td>\n",
       "    </tr>\n",
       "  </tbody>\n",
       "</table>\n",
       "<p>891 rows × 12 columns</p>\n",
       "</div>"
      ],
      "text/plain": [
       "     PassengerId  Survived  Pclass  \\\n",
       "0              1         0       3   \n",
       "1              2         1       1   \n",
       "2              3         1       3   \n",
       "3              4         1       1   \n",
       "4              5         0       3   \n",
       "..           ...       ...     ...   \n",
       "886          887         0       2   \n",
       "887          888         1       1   \n",
       "888          889         0       3   \n",
       "889          890         1       1   \n",
       "890          891         0       3   \n",
       "\n",
       "                                                  Name     Sex   Age  SibSp  \\\n",
       "0                              Braund, Mr. Owen Harris    male  22.0      1   \n",
       "1    Cumings, Mrs. John Bradley (Florence Briggs Th...  female  38.0      1   \n",
       "2                               Heikkinen, Miss. Laina  female  26.0      0   \n",
       "3         Futrelle, Mrs. Jacques Heath (Lily May Peel)  female  35.0      1   \n",
       "4                             Allen, Mr. William Henry    male  35.0      0   \n",
       "..                                                 ...     ...   ...    ...   \n",
       "886                              Montvila, Rev. Juozas    male  27.0      0   \n",
       "887                       Graham, Miss. Margaret Edith  female  19.0      0   \n",
       "888           Johnston, Miss. Catherine Helen \"Carrie\"  female   NaN      1   \n",
       "889                              Behr, Mr. Karl Howell    male  26.0      0   \n",
       "890                                Dooley, Mr. Patrick    male  32.0      0   \n",
       "\n",
       "     Parch            Ticket     Fare Cabin Embarked  \n",
       "0        0         A/5 21171   7.2500   NaN        S  \n",
       "1        0          PC 17599  71.2833   C85        C  \n",
       "2        0  STON/O2. 3101282   7.9250   NaN        S  \n",
       "3        0            113803  53.1000  C123        S  \n",
       "4        0            373450   8.0500   NaN        S  \n",
       "..     ...               ...      ...   ...      ...  \n",
       "886      0            211536  13.0000   NaN        S  \n",
       "887      0            112053  30.0000   B42        S  \n",
       "888      2        W./C. 6607  23.4500   NaN        S  \n",
       "889      0            111369  30.0000  C148        C  \n",
       "890      0            370376   7.7500   NaN        Q  \n",
       "\n",
       "[891 rows x 12 columns]"
      ]
     },
     "execution_count": 93,
     "metadata": {},
     "output_type": "execute_result"
    }
   ],
   "source": [
    "train"
   ]
  },
  {
   "cell_type": "code",
   "execution_count": 94,
   "id": "bbbfa128-6b68-47b9-b53c-66e8439c7d4e",
   "metadata": {},
   "outputs": [
    {
     "name": "stdout",
     "output_type": "stream",
     "text": [
      "<class 'pandas.core.frame.DataFrame'>\n",
      "RangeIndex: 891 entries, 0 to 890\n",
      "Data columns (total 12 columns):\n",
      " #   Column       Non-Null Count  Dtype  \n",
      "---  ------       --------------  -----  \n",
      " 0   PassengerId  891 non-null    int64  \n",
      " 1   Survived     891 non-null    int64  \n",
      " 2   Pclass       891 non-null    int64  \n",
      " 3   Name         891 non-null    object \n",
      " 4   Sex          891 non-null    object \n",
      " 5   Age          714 non-null    float64\n",
      " 6   SibSp        891 non-null    int64  \n",
      " 7   Parch        891 non-null    int64  \n",
      " 8   Ticket       891 non-null    object \n",
      " 9   Fare         891 non-null    float64\n",
      " 10  Cabin        204 non-null    object \n",
      " 11  Embarked     889 non-null    object \n",
      "dtypes: float64(2), int64(5), object(5)\n",
      "memory usage: 83.7+ KB\n"
     ]
    }
   ],
   "source": [
    "train.info()"
   ]
  },
  {
   "cell_type": "code",
   "execution_count": 95,
   "id": "d95bf423-5345-490b-8300-51ce0181da5c",
   "metadata": {},
   "outputs": [
    {
     "data": {
      "text/plain": [
       "S    644\n",
       "C    168\n",
       "Q     77\n",
       "Name: Embarked, dtype: int64"
      ]
     },
     "execution_count": 95,
     "metadata": {},
     "output_type": "execute_result"
    }
   ],
   "source": [
    "train['Embarked'].value_counts()"
   ]
  },
  {
   "cell_type": "code",
   "execution_count": 96,
   "id": "59b05dcd-5113-4007-a1b0-38f64b595320",
   "metadata": {},
   "outputs": [
    {
     "data": {
      "text/html": [
       "<div>\n",
       "<style scoped>\n",
       "    .dataframe tbody tr th:only-of-type {\n",
       "        vertical-align: middle;\n",
       "    }\n",
       "\n",
       "    .dataframe tbody tr th {\n",
       "        vertical-align: top;\n",
       "    }\n",
       "\n",
       "    .dataframe thead th {\n",
       "        text-align: right;\n",
       "    }\n",
       "</style>\n",
       "<table border=\"1\" class=\"dataframe\">\n",
       "  <thead>\n",
       "    <tr style=\"text-align: right;\">\n",
       "      <th></th>\n",
       "      <th>PassengerId</th>\n",
       "      <th>Pclass</th>\n",
       "      <th>Name</th>\n",
       "      <th>Sex</th>\n",
       "      <th>Age</th>\n",
       "      <th>SibSp</th>\n",
       "      <th>Parch</th>\n",
       "      <th>Ticket</th>\n",
       "      <th>Fare</th>\n",
       "      <th>Cabin</th>\n",
       "      <th>Embarked</th>\n",
       "    </tr>\n",
       "  </thead>\n",
       "  <tbody>\n",
       "    <tr>\n",
       "      <th>0</th>\n",
       "      <td>892</td>\n",
       "      <td>3</td>\n",
       "      <td>Kelly, Mr. James</td>\n",
       "      <td>male</td>\n",
       "      <td>34.5</td>\n",
       "      <td>0</td>\n",
       "      <td>0</td>\n",
       "      <td>330911</td>\n",
       "      <td>7.8292</td>\n",
       "      <td>NaN</td>\n",
       "      <td>Q</td>\n",
       "    </tr>\n",
       "    <tr>\n",
       "      <th>1</th>\n",
       "      <td>893</td>\n",
       "      <td>3</td>\n",
       "      <td>Wilkes, Mrs. James (Ellen Needs)</td>\n",
       "      <td>female</td>\n",
       "      <td>47.0</td>\n",
       "      <td>1</td>\n",
       "      <td>0</td>\n",
       "      <td>363272</td>\n",
       "      <td>7.0000</td>\n",
       "      <td>NaN</td>\n",
       "      <td>S</td>\n",
       "    </tr>\n",
       "    <tr>\n",
       "      <th>2</th>\n",
       "      <td>894</td>\n",
       "      <td>2</td>\n",
       "      <td>Myles, Mr. Thomas Francis</td>\n",
       "      <td>male</td>\n",
       "      <td>62.0</td>\n",
       "      <td>0</td>\n",
       "      <td>0</td>\n",
       "      <td>240276</td>\n",
       "      <td>9.6875</td>\n",
       "      <td>NaN</td>\n",
       "      <td>Q</td>\n",
       "    </tr>\n",
       "    <tr>\n",
       "      <th>3</th>\n",
       "      <td>895</td>\n",
       "      <td>3</td>\n",
       "      <td>Wirz, Mr. Albert</td>\n",
       "      <td>male</td>\n",
       "      <td>27.0</td>\n",
       "      <td>0</td>\n",
       "      <td>0</td>\n",
       "      <td>315154</td>\n",
       "      <td>8.6625</td>\n",
       "      <td>NaN</td>\n",
       "      <td>S</td>\n",
       "    </tr>\n",
       "    <tr>\n",
       "      <th>4</th>\n",
       "      <td>896</td>\n",
       "      <td>3</td>\n",
       "      <td>Hirvonen, Mrs. Alexander (Helga E Lindqvist)</td>\n",
       "      <td>female</td>\n",
       "      <td>22.0</td>\n",
       "      <td>1</td>\n",
       "      <td>1</td>\n",
       "      <td>3101298</td>\n",
       "      <td>12.2875</td>\n",
       "      <td>NaN</td>\n",
       "      <td>S</td>\n",
       "    </tr>\n",
       "    <tr>\n",
       "      <th>...</th>\n",
       "      <td>...</td>\n",
       "      <td>...</td>\n",
       "      <td>...</td>\n",
       "      <td>...</td>\n",
       "      <td>...</td>\n",
       "      <td>...</td>\n",
       "      <td>...</td>\n",
       "      <td>...</td>\n",
       "      <td>...</td>\n",
       "      <td>...</td>\n",
       "      <td>...</td>\n",
       "    </tr>\n",
       "    <tr>\n",
       "      <th>413</th>\n",
       "      <td>1305</td>\n",
       "      <td>3</td>\n",
       "      <td>Spector, Mr. Woolf</td>\n",
       "      <td>male</td>\n",
       "      <td>NaN</td>\n",
       "      <td>0</td>\n",
       "      <td>0</td>\n",
       "      <td>A.5. 3236</td>\n",
       "      <td>8.0500</td>\n",
       "      <td>NaN</td>\n",
       "      <td>S</td>\n",
       "    </tr>\n",
       "    <tr>\n",
       "      <th>414</th>\n",
       "      <td>1306</td>\n",
       "      <td>1</td>\n",
       "      <td>Oliva y Ocana, Dona. Fermina</td>\n",
       "      <td>female</td>\n",
       "      <td>39.0</td>\n",
       "      <td>0</td>\n",
       "      <td>0</td>\n",
       "      <td>PC 17758</td>\n",
       "      <td>108.9000</td>\n",
       "      <td>C105</td>\n",
       "      <td>C</td>\n",
       "    </tr>\n",
       "    <tr>\n",
       "      <th>415</th>\n",
       "      <td>1307</td>\n",
       "      <td>3</td>\n",
       "      <td>Saether, Mr. Simon Sivertsen</td>\n",
       "      <td>male</td>\n",
       "      <td>38.5</td>\n",
       "      <td>0</td>\n",
       "      <td>0</td>\n",
       "      <td>SOTON/O.Q. 3101262</td>\n",
       "      <td>7.2500</td>\n",
       "      <td>NaN</td>\n",
       "      <td>S</td>\n",
       "    </tr>\n",
       "    <tr>\n",
       "      <th>416</th>\n",
       "      <td>1308</td>\n",
       "      <td>3</td>\n",
       "      <td>Ware, Mr. Frederick</td>\n",
       "      <td>male</td>\n",
       "      <td>NaN</td>\n",
       "      <td>0</td>\n",
       "      <td>0</td>\n",
       "      <td>359309</td>\n",
       "      <td>8.0500</td>\n",
       "      <td>NaN</td>\n",
       "      <td>S</td>\n",
       "    </tr>\n",
       "    <tr>\n",
       "      <th>417</th>\n",
       "      <td>1309</td>\n",
       "      <td>3</td>\n",
       "      <td>Peter, Master. Michael J</td>\n",
       "      <td>male</td>\n",
       "      <td>NaN</td>\n",
       "      <td>1</td>\n",
       "      <td>1</td>\n",
       "      <td>2668</td>\n",
       "      <td>22.3583</td>\n",
       "      <td>NaN</td>\n",
       "      <td>C</td>\n",
       "    </tr>\n",
       "  </tbody>\n",
       "</table>\n",
       "<p>418 rows × 11 columns</p>\n",
       "</div>"
      ],
      "text/plain": [
       "     PassengerId  Pclass                                          Name  \\\n",
       "0            892       3                              Kelly, Mr. James   \n",
       "1            893       3              Wilkes, Mrs. James (Ellen Needs)   \n",
       "2            894       2                     Myles, Mr. Thomas Francis   \n",
       "3            895       3                              Wirz, Mr. Albert   \n",
       "4            896       3  Hirvonen, Mrs. Alexander (Helga E Lindqvist)   \n",
       "..           ...     ...                                           ...   \n",
       "413         1305       3                            Spector, Mr. Woolf   \n",
       "414         1306       1                  Oliva y Ocana, Dona. Fermina   \n",
       "415         1307       3                  Saether, Mr. Simon Sivertsen   \n",
       "416         1308       3                           Ware, Mr. Frederick   \n",
       "417         1309       3                      Peter, Master. Michael J   \n",
       "\n",
       "        Sex   Age  SibSp  Parch              Ticket      Fare Cabin Embarked  \n",
       "0      male  34.5      0      0              330911    7.8292   NaN        Q  \n",
       "1    female  47.0      1      0              363272    7.0000   NaN        S  \n",
       "2      male  62.0      0      0              240276    9.6875   NaN        Q  \n",
       "3      male  27.0      0      0              315154    8.6625   NaN        S  \n",
       "4    female  22.0      1      1             3101298   12.2875   NaN        S  \n",
       "..      ...   ...    ...    ...                 ...       ...   ...      ...  \n",
       "413    male   NaN      0      0           A.5. 3236    8.0500   NaN        S  \n",
       "414  female  39.0      0      0            PC 17758  108.9000  C105        C  \n",
       "415    male  38.5      0      0  SOTON/O.Q. 3101262    7.2500   NaN        S  \n",
       "416    male   NaN      0      0              359309    8.0500   NaN        S  \n",
       "417    male   NaN      1      1                2668   22.3583   NaN        C  \n",
       "\n",
       "[418 rows x 11 columns]"
      ]
     },
     "execution_count": 96,
     "metadata": {},
     "output_type": "execute_result"
    }
   ],
   "source": [
    "test"
   ]
  },
  {
   "cell_type": "code",
   "execution_count": 97,
   "id": "1235b353-1f23-496a-a73e-7baf4a085230",
   "metadata": {},
   "outputs": [
    {
     "name": "stdout",
     "output_type": "stream",
     "text": [
      "<class 'pandas.core.frame.DataFrame'>\n",
      "RangeIndex: 418 entries, 0 to 417\n",
      "Data columns (total 11 columns):\n",
      " #   Column       Non-Null Count  Dtype  \n",
      "---  ------       --------------  -----  \n",
      " 0   PassengerId  418 non-null    int64  \n",
      " 1   Pclass       418 non-null    int64  \n",
      " 2   Name         418 non-null    object \n",
      " 3   Sex          418 non-null    object \n",
      " 4   Age          332 non-null    float64\n",
      " 5   SibSp        418 non-null    int64  \n",
      " 6   Parch        418 non-null    int64  \n",
      " 7   Ticket       418 non-null    object \n",
      " 8   Fare         417 non-null    float64\n",
      " 9   Cabin        91 non-null     object \n",
      " 10  Embarked     418 non-null    object \n",
      "dtypes: float64(2), int64(4), object(5)\n",
      "memory usage: 36.0+ KB\n"
     ]
    }
   ],
   "source": [
    "test.info()"
   ]
  },
  {
   "cell_type": "markdown",
   "id": "4930e2bd-b6b6-4750-abf3-d0ad9163b6e2",
   "metadata": {},
   "source": [
    "# Describing data"
   ]
  },
  {
   "cell_type": "markdown",
   "id": "862868c1-11e5-4f7b-ad7d-b9531621927b",
   "metadata": {},
   "source": [
    "Basic describe with mean, min etc."
   ]
  },
  {
   "cell_type": "code",
   "execution_count": 98,
   "id": "a6052677-7b1a-4f5c-8f2c-9693e572a720",
   "metadata": {},
   "outputs": [
    {
     "data": {
      "text/html": [
       "<div>\n",
       "<style scoped>\n",
       "    .dataframe tbody tr th:only-of-type {\n",
       "        vertical-align: middle;\n",
       "    }\n",
       "\n",
       "    .dataframe tbody tr th {\n",
       "        vertical-align: top;\n",
       "    }\n",
       "\n",
       "    .dataframe thead th {\n",
       "        text-align: right;\n",
       "    }\n",
       "</style>\n",
       "<table border=\"1\" class=\"dataframe\">\n",
       "  <thead>\n",
       "    <tr style=\"text-align: right;\">\n",
       "      <th></th>\n",
       "      <th>PassengerId</th>\n",
       "      <th>Survived</th>\n",
       "      <th>Pclass</th>\n",
       "      <th>Age</th>\n",
       "      <th>SibSp</th>\n",
       "      <th>Parch</th>\n",
       "      <th>Fare</th>\n",
       "    </tr>\n",
       "  </thead>\n",
       "  <tbody>\n",
       "    <tr>\n",
       "      <th>count</th>\n",
       "      <td>891.000000</td>\n",
       "      <td>891.000000</td>\n",
       "      <td>891.000000</td>\n",
       "      <td>714.000000</td>\n",
       "      <td>891.000000</td>\n",
       "      <td>891.000000</td>\n",
       "      <td>891.000000</td>\n",
       "    </tr>\n",
       "    <tr>\n",
       "      <th>mean</th>\n",
       "      <td>446.000000</td>\n",
       "      <td>0.383838</td>\n",
       "      <td>2.308642</td>\n",
       "      <td>29.699118</td>\n",
       "      <td>0.523008</td>\n",
       "      <td>0.381594</td>\n",
       "      <td>32.204208</td>\n",
       "    </tr>\n",
       "    <tr>\n",
       "      <th>std</th>\n",
       "      <td>257.353842</td>\n",
       "      <td>0.486592</td>\n",
       "      <td>0.836071</td>\n",
       "      <td>14.526497</td>\n",
       "      <td>1.102743</td>\n",
       "      <td>0.806057</td>\n",
       "      <td>49.693429</td>\n",
       "    </tr>\n",
       "    <tr>\n",
       "      <th>min</th>\n",
       "      <td>1.000000</td>\n",
       "      <td>0.000000</td>\n",
       "      <td>1.000000</td>\n",
       "      <td>0.420000</td>\n",
       "      <td>0.000000</td>\n",
       "      <td>0.000000</td>\n",
       "      <td>0.000000</td>\n",
       "    </tr>\n",
       "    <tr>\n",
       "      <th>25%</th>\n",
       "      <td>223.500000</td>\n",
       "      <td>0.000000</td>\n",
       "      <td>2.000000</td>\n",
       "      <td>20.125000</td>\n",
       "      <td>0.000000</td>\n",
       "      <td>0.000000</td>\n",
       "      <td>7.910400</td>\n",
       "    </tr>\n",
       "    <tr>\n",
       "      <th>50%</th>\n",
       "      <td>446.000000</td>\n",
       "      <td>0.000000</td>\n",
       "      <td>3.000000</td>\n",
       "      <td>28.000000</td>\n",
       "      <td>0.000000</td>\n",
       "      <td>0.000000</td>\n",
       "      <td>14.454200</td>\n",
       "    </tr>\n",
       "    <tr>\n",
       "      <th>75%</th>\n",
       "      <td>668.500000</td>\n",
       "      <td>1.000000</td>\n",
       "      <td>3.000000</td>\n",
       "      <td>38.000000</td>\n",
       "      <td>1.000000</td>\n",
       "      <td>0.000000</td>\n",
       "      <td>31.000000</td>\n",
       "    </tr>\n",
       "    <tr>\n",
       "      <th>max</th>\n",
       "      <td>891.000000</td>\n",
       "      <td>1.000000</td>\n",
       "      <td>3.000000</td>\n",
       "      <td>80.000000</td>\n",
       "      <td>8.000000</td>\n",
       "      <td>6.000000</td>\n",
       "      <td>512.329200</td>\n",
       "    </tr>\n",
       "  </tbody>\n",
       "</table>\n",
       "</div>"
      ],
      "text/plain": [
       "       PassengerId    Survived      Pclass         Age       SibSp  \\\n",
       "count   891.000000  891.000000  891.000000  714.000000  891.000000   \n",
       "mean    446.000000    0.383838    2.308642   29.699118    0.523008   \n",
       "std     257.353842    0.486592    0.836071   14.526497    1.102743   \n",
       "min       1.000000    0.000000    1.000000    0.420000    0.000000   \n",
       "25%     223.500000    0.000000    2.000000   20.125000    0.000000   \n",
       "50%     446.000000    0.000000    3.000000   28.000000    0.000000   \n",
       "75%     668.500000    1.000000    3.000000   38.000000    1.000000   \n",
       "max     891.000000    1.000000    3.000000   80.000000    8.000000   \n",
       "\n",
       "            Parch        Fare  \n",
       "count  891.000000  891.000000  \n",
       "mean     0.381594   32.204208  \n",
       "std      0.806057   49.693429  \n",
       "min      0.000000    0.000000  \n",
       "25%      0.000000    7.910400  \n",
       "50%      0.000000   14.454200  \n",
       "75%      0.000000   31.000000  \n",
       "max      6.000000  512.329200  "
      ]
     },
     "execution_count": 98,
     "metadata": {},
     "output_type": "execute_result"
    }
   ],
   "source": [
    "train.describe()"
   ]
  },
  {
   "cell_type": "markdown",
   "id": "0fb3a16b-d5cd-49dc-bb79-d87a78bb5f3c",
   "metadata": {},
   "source": [
    "Interestingly largely passangers were quite young on the Titanic. Many were also travelling without siblings or parents/children. Unfortunately we can also see that most of the passangers did not survive. Let's look at the distribution of data in different columns next using histograms."
   ]
  },
  {
   "cell_type": "code",
   "execution_count": 99,
   "id": "c72bfde3-a9d1-4c45-ad0c-29784f6da26b",
   "metadata": {},
   "outputs": [
    {
     "data": {
      "image/png": "[encoded data removed]",
      "text/plain": [
       "<Figure size 1296x720 with 9 Axes>"
      ]
     },
     "metadata": {
      "needs_background": "light"
     },
     "output_type": "display_data"
    }
   ],
   "source": [
    "train.hist(bins=20, figsize=(18,10));"
   ]
  },
  {
   "cell_type": "markdown",
   "id": "5d47e773-8d49-425e-8635-17ed920bbdc7",
   "metadata": {},
   "source": [
    "Again we can see that there were many fairly young people. It could be interesting to see, how the distribution of age between passangers who survived and who did not."
   ]
  },
  {
   "cell_type": "code",
   "execution_count": 100,
   "id": "1cac5ebe-fc24-4643-8329-b93e1f7fef95",
   "metadata": {},
   "outputs": [
    {
     "data": {
      "image/png": "[encoded data removed]",
      "text/plain": [
       "<Figure size 720x360 with 1 Axes>"
      ]
     },
     "metadata": {
      "needs_background": "light"
     },
     "output_type": "display_data"
    }
   ],
   "source": [
    "train.plot(kind=\"scatter\", x=\"Age\", y=\"Survived\", alpha=0.05, s=300, figsize=(10,5));"
   ]
  },
  {
   "cell_type": "markdown",
   "id": "8bc642a9-3d45-4736-a19f-6a75dd165e56",
   "metadata": {},
   "source": [
    "The youngsters might have been slightly more nimble to run towards the lifeboats, but you cannot see any strong signs of correlation.\n",
    "\n",
    "Could you though buy yourself a survival?"
   ]
  },
  {
   "cell_type": "code",
   "execution_count": 101,
   "id": "5d22c567-f7eb-468c-8ee5-fc10629cbb9e",
   "metadata": {},
   "outputs": [
    {
     "data": {
      "image/png": "[encoded data removed]",
      "text/plain": [
       "<Figure size 720x360 with 1 Axes>"
      ]
     },
     "metadata": {
      "needs_background": "light"
     },
     "output_type": "display_data"
    }
   ],
   "source": [
    "plt.figure(figsize=(10,5))\n",
    "sns.scatterplot(data=train, x=\"Fare\", y=\"Pclass\", hue=\"Survived\", s=300, alpha=0.5);"
   ]
  },
  {
   "cell_type": "markdown",
   "id": "837af2d4-3c28-411d-bb1b-9f6d53c211f2",
   "metadata": {},
   "source": [
    "Maybe? It certainly looks like passangers in the first class had more survivors (orange colour) among them. Data points representing passangers in the third class do look very blue."
   ]
  },
  {
   "cell_type": "markdown",
   "id": "6cc569f8-728c-4c9e-afe6-7ec3e3f227ae",
   "metadata": {},
   "source": [
    "Lets properly calculate and visualise the Pearsons correlation coefficiency."
   ]
  },
  {
   "cell_type": "code",
   "execution_count": 102,
   "id": "c838f74a-3ed3-4b20-94f5-df65d0a74270",
   "metadata": {},
   "outputs": [
    {
     "data": {
      "image/png": "[encoded data removed]",
      "text/plain": [
       "<Figure size 720x360 with 2 Axes>"
      ]
     },
     "metadata": {
      "needs_background": "light"
     },
     "output_type": "display_data"
    }
   ],
   "source": [
    "plt.figure(figsize=(10,5))\n",
    "sns.heatmap(train.corr(method=\"pearson\"), annot=True, cmap=\"coolwarm\");"
   ]
  },
  {
   "cell_type": "markdown",
   "id": "25c3b94f-9970-4c40-9d03-0c741cffac58",
   "metadata": {},
   "source": [
    "Here cooler colours represent negative correlation and more warm colours represent positive correlation. Now we can see that being in higher class (lower numerical value), and also higher fare correlates pretty substantially with survival."
   ]
  },
  {
   "cell_type": "markdown",
   "id": "d0605dc9-30ab-4493-a89d-5aa84597626a",
   "metadata": {},
   "source": [
    "# Preparing data"
   ]
  },
  {
   "cell_type": "markdown",
   "id": "09083670-b137-4a78-bfe1-9507f84bef85",
   "metadata": {},
   "source": [
    "## Building pipelines"
   ]
  },
  {
   "cell_type": "markdown",
   "id": "ec1504b9-866d-4493-873a-82457377feba",
   "metadata": {},
   "source": [
    "For numeric columns we built a pipeline which replaces missing values with mean value for that column, and scales all the values with `StandardScaler`."
   ]
  },
  {
   "cell_type": "code",
   "execution_count": 103,
   "id": "261fdc1f-d338-44e4-8bd2-de6ad41db88b",
   "metadata": {},
   "outputs": [],
   "source": [
    "num_pipeline = Pipeline([\n",
    "    ('imputer', SimpleImputer(strategy=\"mean\")),\n",
    "    ('std_scaler', StandardScaler()),\n",
    "])"
   ]
  },
  {
   "cell_type": "markdown",
   "id": "6176ae86-3f3e-4bec-a200-311d0368cab8",
   "metadata": {},
   "source": [
    "Non-numeric columns can't be prepared with the pipeline above, therefore we built a special pipeline for handling them. The pipeline first replaces missing data with most frequent data, then encoding non-binary categories with `OneHotEncoder`."
   ]
  },
  {
   "cell_type": "code",
   "execution_count": 104,
   "id": "843f5682-67bf-4e54-87e7-515632e5f97c",
   "metadata": {},
   "outputs": [],
   "source": [
    "cat_pipeline = Pipeline([\n",
    "    ('imputer', SimpleImputer(strategy=\"most_frequent\")),\n",
    "    ('onehotenc', OneHotEncoder()),\n",
    "])"
   ]
  },
  {
   "cell_type": "markdown",
   "id": "ab9fec42-e8b8-42ee-91c2-8b880bb01630",
   "metadata": {},
   "source": [
    "## Selecting data and running pipelines"
   ]
  },
  {
   "cell_type": "markdown",
   "id": "a15b7895-21be-4c85-bff4-1a3a0e4e5088",
   "metadata": {},
   "source": [
    "There were a few columns we decided to drop entirely, based on their perceived unusability. Dropped columns are:\n",
    "\n",
    "- Cabin (a lot of data missing)\n",
    "- Ticket (doesn't seem meaningful for us)\n",
    "- Name (we at least hope that name is not a significant factor on survival)\n",
    "\n",
    "This leaves us with numeric columns of:\n",
    "\n",
    "- Age\n",
    "- Number of siblings (*SibSp*)\n",
    "- Number of parents (*Parch*)\n",
    "- Fare\n",
    "\n",
    "And category columns of:\n",
    "\n",
    "- Ticket class (*Pclass*) (this is a category with possible classes: 1, 2 and 3)\n",
    "- Sex\n",
    "- Embarked (the port of embarkation)"
   ]
  },
  {
   "cell_type": "code",
   "execution_count": 105,
   "id": "acdbcc3c-d904-414b-8195-226052e4c1c4",
   "metadata": {},
   "outputs": [],
   "source": [
    "num_attribs = [\"Age\", \"SibSp\", \"Parch\", \"Fare\"]\n",
    "cat_attribs = [\"Pclass\", \"Sex\", \"Embarked\"]\n",
    "\n",
    "full_pipeline = ColumnTransformer([\n",
    "    (\"num\", num_pipeline, num_attribs),\n",
    "    (\"cat\", cat_pipeline, cat_attribs),\n",
    "])\n",
    "\n",
    "train_prepared = full_pipeline.fit_transform(train)\n",
    "test_prepared = full_pipeline.fit_transform(test)"
   ]
  },
  {
   "cell_type": "markdown",
   "id": "8bbdf309-f488-4acd-9019-5323ef596900",
   "metadata": {},
   "source": [
    "Let's take a look..."
   ]
  },
  {
   "cell_type": "code",
   "execution_count": 106,
   "id": "d96e43ba-7161-4176-bf01-59bc73571ac8",
   "metadata": {},
   "outputs": [
    {
     "data": {
      "text/plain": [
       "array([-0.5924806 ,  0.43279337, -0.47367361, -0.50244517,  0.        ,\n",
       "        0.        ,  1.        ,  0.        ,  1.        ,  0.        ,\n",
       "        0.        ,  1.        ])"
      ]
     },
     "execution_count": 106,
     "metadata": {},
     "output_type": "execute_result"
    }
   ],
   "source": [
    "train_prepared[0]"
   ]
  },
  {
   "cell_type": "code",
   "execution_count": 107,
   "id": "a547b915-09a4-4e78-9004-110908819369",
   "metadata": {},
   "outputs": [
    {
     "data": {
      "text/plain": [
       "array([ 0.3349926 , -0.49947002, -0.4002477 , -0.49840706,  0.        ,\n",
       "        0.        ,  1.        ,  0.        ,  1.        ,  0.        ,\n",
       "        1.        ,  0.        ])"
      ]
     },
     "execution_count": 107,
     "metadata": {},
     "output_type": "execute_result"
    }
   ],
   "source": [
    "test_prepared[0]"
   ]
  },
  {
   "cell_type": "markdown",
   "id": "6837a131-50cd-4174-bdc2-3fe415a2ecf6",
   "metadata": {},
   "source": [
    "Seems OK."
   ]
  },
  {
   "cell_type": "markdown",
   "id": "ee604d54-cdc4-4e36-8f59-097869fcc9ba",
   "metadata": {},
   "source": [
    "# Random Forest"
   ]
  },
  {
   "cell_type": "markdown",
   "id": "82f73dbf",
   "metadata": {},
   "source": [
    "Using Random Forest as our first machine learning model."
   ]
  },
  {
   "cell_type": "markdown",
   "id": "c73aeeed-caf7-453e-b4ff-8f48f882fb99",
   "metadata": {},
   "source": [
    "Creating labels for the data. Naming them as rf_ indicating that the usage is for Random Forest. "
   ]
  },
  {
   "cell_type": "code",
   "execution_count": 108,
   "id": "a8ed1bf1-368e-4d30-adf6-476432462e70",
   "metadata": {},
   "outputs": [
    {
     "data": {
      "text/plain": [
       "0      0\n",
       "1      1\n",
       "2      1\n",
       "3      1\n",
       "4      0\n",
       "      ..\n",
       "886    0\n",
       "887    1\n",
       "888    0\n",
       "889    1\n",
       "890    0\n",
       "Name: Survived, Length: 891, dtype: int64"
      ]
     },
     "execution_count": 108,
     "metadata": {},
     "output_type": "execute_result"
    }
   ],
   "source": [
    "rf_labels = train['Survived']\n",
    "rf_labels"
   ]
  },
  {
   "cell_type": "markdown",
   "id": "6b108d6b",
   "metadata": {},
   "source": [
    "Splitting the data into training and test sets to evaluate our model."
   ]
  },
  {
   "cell_type": "code",
   "execution_count": 109,
   "id": "bfa1c930",
   "metadata": {},
   "outputs": [
    {
     "name": "stdout",
     "output_type": "stream",
     "text": [
      "Training Features Shape: (668, 12)\n",
      "Training Labels Shape: (668,)\n",
      "Testing Features Shape: (223, 12)\n",
      "Testing Labels Shape: (223,)\n"
     ]
    }
   ],
   "source": [
    "rf_features_train, rf_features_test, rf_labels_train, rf_labels_test = train_test_split(train_prepared, rf_labels, test_size=0.25, random_state = 0)\n",
    "\n",
    "# Checking the shape\n",
    "print('Training Features Shape:', rf_features_train.shape)\n",
    "print('Training Labels Shape:', rf_labels_train.shape)\n",
    "print('Testing Features Shape:', rf_features_test.shape)\n",
    "print('Testing Labels Shape:', rf_labels_test.shape)"
   ]
  },
  {
   "cell_type": "markdown",
   "id": "69bf56f3",
   "metadata": {},
   "source": [
    "Next instantiating the model with 100 decision trees. "
   ]
  },
  {
   "cell_type": "code",
   "execution_count": 110,
   "id": "b4f4fc50",
   "metadata": {},
   "outputs": [],
   "source": [
    "rf = RandomForestClassifier(random_state=42)"
   ]
  },
  {
   "cell_type": "markdown",
   "id": "490ccaf4",
   "metadata": {},
   "source": [
    "Then training the model with training data."
   ]
  },
  {
   "cell_type": "code",
   "execution_count": 111,
   "id": "d0e28114",
   "metadata": {},
   "outputs": [
    {
     "data": {
      "text/plain": [
       "RandomForestClassifier(random_state=42)"
      ]
     },
     "execution_count": 111,
     "metadata": {},
     "output_type": "execute_result"
    }
   ],
   "source": [
    "rf.fit(rf_features_train, rf_labels_train)"
   ]
  },
  {
   "cell_type": "markdown",
   "id": "90da7321",
   "metadata": {},
   "source": [
    "Next we are using predict method on the test data."
   ]
  },
  {
   "cell_type": "code",
   "execution_count": 112,
   "id": "1860ca13",
   "metadata": {},
   "outputs": [
    {
     "data": {
      "text/plain": [
       "array([0, 0, 0, 1, 1, 0, 1, 1, 1, 1, 0, 1, 0, 1, 1, 0, 0, 0, 0, 1, 0, 1,\n",
       "       0, 0, 0, 1, 0, 1, 1, 0, 0, 1, 0, 0, 0, 0, 0, 0, 0, 0, 0, 0, 0, 0,\n",
       "       1, 0, 0, 1, 0, 0, 0, 0, 1, 0, 0, 0, 0, 0, 0, 0, 0, 1, 1, 0, 1, 0,\n",
       "       1, 0, 1, 1, 1, 0, 1, 0, 0, 1, 0, 0, 0, 0, 0, 1, 1, 0, 0, 1, 1, 0,\n",
       "       1, 1, 0, 0, 1, 1, 0, 0, 1, 0, 0, 0, 0, 0, 0, 0, 0, 1, 1, 0, 0, 1,\n",
       "       0, 1, 1, 0, 1, 1, 0, 1, 0, 1, 0, 0, 0, 0, 0, 0, 0, 0, 0, 0, 1, 0,\n",
       "       0, 0, 0, 0, 0, 0, 0, 0, 0, 1, 0, 1, 1, 0, 0, 1, 1, 1, 0, 1, 1, 0,\n",
       "       1, 0, 0, 0, 1, 1, 0, 0, 1, 0, 0, 0, 0, 0, 0, 0, 0, 1, 0, 0, 1, 0,\n",
       "       1, 0, 0, 1, 0, 0, 1, 0, 0, 0, 1, 0, 0, 1, 0, 0, 1, 1, 0, 0, 0, 0,\n",
       "       1, 0, 0, 0, 0, 0, 0, 0, 1, 1, 1, 0, 0, 0, 0, 1, 0, 0, 0, 1, 0, 1,\n",
       "       0, 1, 1])"
      ]
     },
     "execution_count": 112,
     "metadata": {},
     "output_type": "execute_result"
    }
   ],
   "source": [
    "rf_predictions_test = rf.predict(rf_features_test)\n",
    "rf_predictions_test"
   ]
  },
  {
   "cell_type": "markdown",
   "id": "9c159fbb",
   "metadata": {},
   "source": [
    "Lastly checking the accuracy score."
   ]
  },
  {
   "cell_type": "code",
   "execution_count": 113,
   "id": "5c396486",
   "metadata": {},
   "outputs": [
    {
     "data": {
      "text/plain": [
       "0.8385650224215246"
      ]
     },
     "execution_count": 113,
     "metadata": {},
     "output_type": "execute_result"
    }
   ],
   "source": [
    "accuracy_score(rf_labels_test, rf_predictions_test)"
   ]
  },
  {
   "cell_type": "markdown",
   "id": "e1a12321",
   "metadata": {},
   "source": [
    "The classification score for Random Forest is ok, but could be better. "
   ]
  },
  {
   "cell_type": "markdown",
   "id": "6dc1d295-e7e0-459b-b98e-32a07769a365",
   "metadata": {},
   "source": [
    "# Neural Network as an alternative"
   ]
  },
  {
   "cell_type": "markdown",
   "id": "6a476c46-c454-42b5-9ee9-992ad5b8de66",
   "metadata": {},
   "source": [
    "We selected MultiLayer Perceptron as our second machine learning model.\n",
    "\n",
    "First we need to get labels for the data. We will also name the variable `alt_*` to keep them specific to this \"alternative model\"."
   ]
  },
  {
   "cell_type": "code",
   "execution_count": 114,
   "id": "7a4ab315-9af8-48c7-92b7-29bbe9159343",
   "metadata": {},
   "outputs": [
    {
     "data": {
      "text/plain": [
       "0      0\n",
       "1      1\n",
       "2      1\n",
       "3      1\n",
       "4      0\n",
       "      ..\n",
       "886    0\n",
       "887    1\n",
       "888    0\n",
       "889    1\n",
       "890    0\n",
       "Name: Survived, Length: 891, dtype: int64"
      ]
     },
     "execution_count": 114,
     "metadata": {},
     "output_type": "execute_result"
    }
   ],
   "source": [
    "alt_labels = train['Survived']\n",
    "# Let's also take a look just to be sure\n",
    "alt_labels"
   ]
  },
  {
   "cell_type": "markdown",
   "id": "43b6651b-26af-4cf4-a188-022208932fa7",
   "metadata": {},
   "source": [
    "And split the data in to training and test sets so we can actually evaluate our model. Remember the original \"test\" data doesn't contain the Survived column, which means we can't use it in actual evaluation. It's for when we want to train and predict the best of our models for Kaggle competition."
   ]
  },
  {
   "cell_type": "code",
   "execution_count": 115,
   "id": "21b15786-4c51-473e-aab6-c57e8b253927",
   "metadata": {},
   "outputs": [
    {
     "data": {
      "text/plain": [
       "array([[-0.1307545 , -0.4745452 , -0.47367361, ...,  0.        ,\n",
       "         0.        ,  1.        ],\n",
       "       [-0.97725235,  3.15480905,  2.00893337, ...,  0.        ,\n",
       "         0.        ,  1.        ],\n",
       "       [ 0.02315421,  0.43279337, -0.47367361, ...,  0.        ,\n",
       "         0.        ,  1.        ],\n",
       "       ...,\n",
       "       [ 0.        , -0.4745452 , -0.47367361, ...,  0.        ,\n",
       "         1.        ,  0.        ],\n",
       "       [ 0.48488031,  0.43279337, -0.47367361, ...,  0.        ,\n",
       "         0.        ,  1.        ],\n",
       "       [ 2.33178473,  0.43279337,  0.76762988, ...,  0.        ,\n",
       "         0.        ,  1.        ]])"
      ]
     },
     "execution_count": 115,
     "metadata": {},
     "output_type": "execute_result"
    }
   ],
   "source": [
    "alt_features_train, alt_features_test, alt_labels_train, alt_labels_test = train_test_split(train_prepared, alt_labels, test_size=0.25, random_state = 0)\n",
    "alt_features_train"
   ]
  },
  {
   "cell_type": "markdown",
   "id": "2c1d1349-7aac-46a4-a121-cca3f78e31ec",
   "metadata": {},
   "source": [
    "Seems good. Let's next instantiate the perceptron with just the default values, just to see what happens."
   ]
  },
  {
   "cell_type": "code",
   "execution_count": 116,
   "id": "f9dedb4a-abfc-437b-89b6-322df2dd2d40",
   "metadata": {},
   "outputs": [],
   "source": [
    "mlp = MLPClassifier(random_state=42)"
   ]
  },
  {
   "cell_type": "markdown",
   "id": "d6bba7f9-63a0-40d5-ac2d-b91a80fb3591",
   "metadata": {},
   "source": [
    "And let's try to fit the model..."
   ]
  },
  {
   "cell_type": "code",
   "execution_count": 117,
   "id": "9c5d76f8-ce93-4838-932a-2840b36fdddf",
   "metadata": {},
   "outputs": [
    {
     "name": "stderr",
     "output_type": "stream",
     "text": [
      "/opt/conda/lib/python3.9/site-packages/sklearn/neural_network/_multilayer_perceptron.py:692: ConvergenceWarning: Stochastic Optimizer: Maximum iterations (200) reached and the optimization hasn't converged yet.\n",
      "  warnings.warn(\n"
     ]
    },
    {
     "data": {
      "text/plain": [
       "MLPClassifier(random_state=42)"
      ]
     },
     "execution_count": 117,
     "metadata": {},
     "output_type": "execute_result"
    }
   ],
   "source": [
    "mlp.fit(alt_features_train, alt_labels_train)"
   ]
  },
  {
   "cell_type": "markdown",
   "id": "bef41de3-4c3c-4190-8081-7fbfa9ef3bad",
   "metadata": {},
   "source": [
    "That didn't go as expected. We probably need to increase maximum iteration count significantly. Let's try 2000 (the default was 200)."
   ]
  },
  {
   "cell_type": "code",
   "execution_count": 118,
   "id": "a7deaa0e-efe9-4f40-a8c3-a78cd7aaf24b",
   "metadata": {},
   "outputs": [
    {
     "data": {
      "text/plain": [
       "MLPClassifier(max_iter=2000, random_state=42)"
      ]
     },
     "execution_count": 118,
     "metadata": {},
     "output_type": "execute_result"
    }
   ],
   "source": [
    "mlp = MLPClassifier(max_iter=2000, random_state=42)\n",
    "mlp.fit(alt_features_train, alt_labels_train)"
   ]
  },
  {
   "cell_type": "markdown",
   "id": "ce3173d5-188a-4928-9574-3ff8511a8935",
   "metadata": {},
   "source": [
    "Yay, it converged! Let's try to predict without tuning anything more. Again just to see what happens."
   ]
  },
  {
   "cell_type": "code",
   "execution_count": 119,
   "id": "de7eb6e1-f744-4d60-93fb-3b2cd9c2de08",
   "metadata": {},
   "outputs": [
    {
     "data": {
      "text/plain": [
       "array([0, 0, 0, 1, 1, 0, 1, 1, 0, 1, 0, 1, 0, 1, 1, 1, 0, 0, 0, 1, 0, 1,\n",
       "       0, 0, 1, 1, 0, 1, 1, 0, 0, 1, 0, 0, 0, 0, 0, 0, 0, 0, 0, 0, 0, 0,\n",
       "       1, 0, 0, 1, 0, 0, 0, 0, 1, 0, 0, 0, 0, 0, 0, 0, 0, 1, 1, 0, 1, 0,\n",
       "       1, 0, 1, 1, 1, 0, 1, 0, 0, 1, 0, 0, 0, 0, 0, 1, 1, 0, 0, 1, 1, 0,\n",
       "       1, 0, 0, 0, 1, 1, 0, 0, 1, 0, 0, 0, 0, 0, 0, 0, 0, 0, 1, 0, 0, 1,\n",
       "       0, 1, 1, 0, 0, 1, 0, 1, 0, 1, 0, 0, 0, 0, 0, 0, 0, 0, 0, 0, 1, 0,\n",
       "       0, 0, 0, 0, 0, 0, 0, 0, 0, 1, 0, 1, 1, 1, 0, 0, 1, 0, 0, 0, 0, 0,\n",
       "       1, 0, 0, 0, 1, 1, 0, 0, 1, 0, 1, 0, 0, 0, 0, 0, 0, 1, 0, 0, 0, 0,\n",
       "       1, 0, 0, 1, 0, 0, 0, 0, 0, 0, 1, 0, 0, 1, 0, 1, 0, 1, 0, 0, 0, 0,\n",
       "       0, 0, 0, 0, 0, 1, 0, 0, 1, 0, 1, 0, 0, 0, 0, 1, 0, 0, 0, 1, 0, 1,\n",
       "       0, 1, 0])"
      ]
     },
     "execution_count": 119,
     "metadata": {},
     "output_type": "execute_result"
    }
   ],
   "source": [
    "alt_predictions_test = mlp.predict(alt_features_test)\n",
    "alt_predictions_test"
   ]
  },
  {
   "cell_type": "markdown",
   "id": "13fb0185-3004-4137-8bd1-c3f4b7f0a7f0",
   "metadata": {},
   "source": [
    "And let's evaluate the results with a confusion matrix and classification score."
   ]
  },
  {
   "cell_type": "code",
   "execution_count": 120,
   "id": "d544aba8-d578-41b0-94fa-dfbab66efa0f",
   "metadata": {},
   "outputs": [
    {
     "data": {
      "text/plain": [
       "array([[125,  14],\n",
       "       [ 30,  54]])"
      ]
     },
     "execution_count": 120,
     "metadata": {},
     "output_type": "execute_result"
    }
   ],
   "source": [
    "confusion_matrix(alt_labels_test, alt_predictions_test)"
   ]
  },
  {
   "cell_type": "code",
   "execution_count": 121,
   "id": "def7395c-6f34-4c74-9a34-41edd735b13d",
   "metadata": {},
   "outputs": [
    {
     "data": {
      "text/plain": [
       "0.8026905829596412"
      ]
     },
     "execution_count": 121,
     "metadata": {},
     "output_type": "execute_result"
    }
   ],
   "source": [
    "accuracy_score(alt_labels_test, alt_predictions_test)"
   ]
  },
  {
   "cell_type": "markdown",
   "id": "5b6ba431-5eed-43b2-a09a-814ca6cff979",
   "metadata": {},
   "source": [
    "Not that good of an accuracy. That's expected though knowing our neural network consists of just one level of 200 hidden neurons."
   ]
  },
  {
   "cell_type": "markdown",
   "id": "ba0e27fd-07a6-4613-b801-1a6874b55ffd",
   "metadata": {},
   "source": [
    "# Selecting one of the models for finer tuning"
   ]
  },
  {
   "cell_type": "markdown",
   "id": "b2ef8621-aa9f-4783-b6c9-56e3aed7202f",
   "metadata": {},
   "source": []
  },
  {
   "cell_type": "code",
   "execution_count": 122,
   "id": "ed0d69c0-8eab-4497-8285-799c73c0b547",
   "metadata": {},
   "outputs": [
    {
     "name": "stdout",
     "output_type": "stream",
     "text": [
      "Random Forest accuracies: training 0.9805389221556886, test 0.8385650224215246\n",
      "Multi-Layer Perceptron (our alternative) accuracies: training 0.8847305389221557, test 0.8026905829596412\n"
     ]
    }
   ],
   "source": [
    "rf_predictions_train = rf.predict(rf_features_train)\n",
    "alt_predictions_train = clf.predict(alt_features_train)\n",
    "\n",
    "rf_train_accuracy = accuracy_score(rf_labels_train, rf_predictions_train)\n",
    "rf_test_accuracy = accuracy_score(rf_labels_test, rf_predictions_test)\n",
    "alt_train_accuracy = accuracy_score(alt_labels_train, alt_predictions_train)\n",
    "alt_test_accuracy = accuracy_score(alt_labels_test, alt_predictions_test)\n",
    "\n",
    "print(f'Random Forest accuracies: training {rf_train_accuracy}, test {rf_test_accuracy}')\n",
    "print(f'Multi-Layer Perceptron (our alternative) accuracies: training {alt_train_accuracy}, test {alt_test_accuracy}')"
   ]
  },
  {
   "cell_type": "markdown",
   "id": "e83a6698-7d10-4a85-bc16-4ef824032f0f",
   "metadata": {},
   "source": []
  },
  {
   "cell_type": "code",
   "execution_count": 123,
   "id": "586f1179-929c-4de6-8f1e-1c47afd2e574",
   "metadata": {},
   "outputs": [
    {
     "name": "stdout",
     "output_type": "stream",
     "text": [
      "Random Forest precisions: training 0.9880478087649402, test 0.8157894736842105\n",
      "Multi-Layer Perceptron (our alternative) precisions: training 0.91324200913242, test 0.7941176470588235\n"
     ]
    }
   ],
   "source": [
    "rf_train_precision = precision_score(rf_labels_train, rf_predictions_train)\n",
    "rf_test_precision = precision_score(rf_labels_test, rf_predictions_test)\n",
    "alt_train_precision = precision_score(alt_labels_train, alt_predictions_train)\n",
    "alt_test_precision = precision_score(alt_labels_test, alt_predictions_test)\n",
    "\n",
    "print(f'Random Forest precisions: training {rf_train_precision}, test {rf_test_precision}')\n",
    "print(f'Multi-Layer Perceptron (our alternative) precisions: training {alt_train_precision}, test {alt_test_precision}')"
   ]
  },
  {
   "cell_type": "markdown",
   "id": "7a3d6e6c-04b6-457f-a0e5-d6e98fae5086",
   "metadata": {},
   "source": []
  },
  {
   "cell_type": "code",
   "execution_count": 124,
   "id": "d72d172d-18c0-4ec3-8c5a-f2e4786a3b53",
   "metadata": {},
   "outputs": [
    {
     "name": "stdout",
     "output_type": "stream",
     "text": [
      "Random Forest recalls: training 0.9612403100775194, test 0.7380952380952381\n",
      "Multi-Layer Perceptron (our alternative) recalls: training 0.7751937984496124, test 0.6428571428571429\n"
     ]
    }
   ],
   "source": [
    "rf_train_recall = recall_score(rf_labels_train, rf_predictions_train)\n",
    "rf_test_recall = recall_score(rf_labels_test, rf_predictions_test)\n",
    "alt_train_recall = recall_score(alt_labels_train, alt_predictions_train)\n",
    "alt_test_recall = recall_score(alt_labels_test, alt_predictions_test)\n",
    "\n",
    "print(f'Random Forest recalls: training {rf_train_recall}, test {rf_test_recall}')\n",
    "print(f'Multi-Layer Perceptron (our alternative) recalls: training {alt_train_recall}, test {alt_test_recall}')"
   ]
  },
  {
   "cell_type": "markdown",
   "id": "d9994bab-7ed7-42aa-bd2e-b43f4a629f15",
   "metadata": {},
   "source": []
  },
  {
   "cell_type": "code",
   "execution_count": 127,
   "id": "d179a67f-3cec-4e67-bfb3-110ee74de67c",
   "metadata": {},
   "outputs": [
    {
     "data": {
      "text/plain": [
       "0.799502487562189"
      ]
     },
     "execution_count": 127,
     "metadata": {},
     "output_type": "execute_result"
    }
   ],
   "source": [
    "rf_scores = cross_val_score(rf, rf_features_train, rf_labels_train, cv=10)\n",
    "rf_scores.mean()"
   ]
  },
  {
   "cell_type": "code",
   "execution_count": 129,
   "id": "457a9334-fc10-4b4c-8d3a-8cecb1f09d92",
   "metadata": {},
   "outputs": [
    {
     "data": {
      "text/plain": [
       "0.811420171867933"
      ]
     },
     "execution_count": 129,
     "metadata": {},
     "output_type": "execute_result"
    }
   ],
   "source": [
    "alt_scores = cross_val_score(mlp, alt_features_train, alt_labels_train, cv=10)\n",
    "alt_scores.mean()"
   ]
  },
  {
   "cell_type": "markdown",
   "id": "6794c0f5-2cd6-4399-8056-c393004a204d",
   "metadata": {},
   "source": [
    "The mean for our alternative model (MLPClassifier) seems to be a bit higher. Let's select that for further fine-tuning."
   ]
  },
  {
   "cell_type": "markdown",
   "id": "40fbb31e-65f2-43a8-b8c4-f7dcc43a8f7e",
   "metadata": {},
   "source": [
    "# Fine-tuning the selected model"
   ]
  },
  {
   "cell_type": "markdown",
   "id": "0bce9aab-a0d3-43ec-83e8-edf26717d393",
   "metadata": {},
   "source": []
  },
  {
   "cell_type": "code",
   "execution_count": null,
   "id": "6b35c848-6617-4831-85f6-f9d72f63d4bb",
   "metadata": {},
   "outputs": [],
   "source": []
  },
  {
   "cell_type": "markdown",
   "id": "3e2a09bd-ed93-4bbc-9bc3-b7f3ae06a7f3",
   "metadata": {},
   "source": [
    "# Cross-validating the fine tuned model"
   ]
  },
  {
   "cell_type": "markdown",
   "id": "8c466b30-b6a6-45e4-bfa3-b9b796f141e6",
   "metadata": {},
   "source": []
  },
  {
   "cell_type": "code",
   "execution_count": null,
   "id": "ec95d9ed-f0ea-4d0d-ab19-2db19cdbe7fa",
   "metadata": {},
   "outputs": [],
   "source": []
  },
  {
   "cell_type": "markdown",
   "id": "d61f3c43-c5b6-4efc-b9cc-50035fee6476",
   "metadata": {},
   "source": [
    "# Making predictions"
   ]
  },
  {
   "cell_type": "markdown",
   "id": "3845ac46-5c1c-48cd-b677-828b4efd4eb2",
   "metadata": {},
   "source": []
  },
  {
   "cell_type": "code",
   "execution_count": null,
   "id": "91d1fc48-172c-4956-92d5-fdc7f5e10844",
   "metadata": {},
   "outputs": [],
   "source": []
  },
  {
   "cell_type": "markdown",
   "id": "ddbca1e4-6fe1-4b9c-b5ac-d96f835c141e",
   "metadata": {},
   "source": [
    "# How well did it all work out?"
   ]
  },
  {
   "cell_type": "markdown",
   "id": "83676c5c-a82e-420f-bcd4-d74df3054294",
   "metadata": {},
   "source": []
  },
  {
   "cell_type": "markdown",
   "id": "168814ba-66f1-4235-bda1-b783cd7be9fb",
   "metadata": {},
   "source": []
  }
 ],
 "metadata": {
  "authors": [
   {
    "name": "Group 2: Markus Ijäs, Susanna Mikola, Markus Murto and Joonas Mäki"
   }
  ],
  "kernelspec": {
   "display_name": "Python 3 (ipykernel)",
   "language": "python",
   "name": "python3"
  },
  "language_info": {
   "codemirror_mode": {
    "name": "ipython",
    "version": 3
   },
   "file_extension": ".py",
   "mimetype": "text/x-python",
   "name": "python",
   "nbconvert_exporter": "python",
   "pygments_lexer": "ipython3",
   "version": "3.9.10"
  }
 },
 "nbformat": 4,
 "nbformat_minor": 5
}
