{
 "cells": [
  {
   "cell_type": "markdown",
   "id": "e8e23369-b658-4a40-9895-0b465bb3d4e5",
   "metadata": {},
   "source": [
    "# DAKO Spring 2022 - Team Work\n",
    "\n",
    "*Group 2: Markus Ijäs, Susanna Mikola, Markus Murto and Joonas Mäki*\n",
    "\n",
    "The aim of this group work is to use machine learning to create a model predicting which passengers survived the Titanic shipwreck. The data used is from [Kaggle Titanic ML Competition](https://www.kaggle.com/competitions/titanic), and Kaggle is used to evaluate our models as well. There is also additional tasks which are completed during this group work."
   ]
  },
  {
   "cell_type": "markdown",
   "id": "2fb79dfd-48fa-47a2-931e-70a2c3555233",
   "metadata": {},
   "source": [
    "## Preparations\n",
    "\n",
    "Imports and method definitions"
   ]
  },
  {
   "cell_type": "code",
   "execution_count": null,
   "id": "6c84ebb1-4a1e-43fc-a240-3f8daf05ac64",
   "metadata": {},
   "outputs": [],
   "source": []
  }
 ],
 "metadata": {
  "kernelspec": {
   "display_name": "Python 3 (ipykernel)",
   "language": "python",
   "name": "python3"
  },
  "language_info": {
   "codemirror_mode": {
    "name": "ipython",
    "version": 3
   },
   "file_extension": ".py",
   "mimetype": "text/x-python",
   "name": "python",
   "nbconvert_exporter": "python",
   "pygments_lexer": "ipython3",
   "version": "3.9.10"
  }
 },
 "nbformat": 4,
 "nbformat_minor": 5
}
